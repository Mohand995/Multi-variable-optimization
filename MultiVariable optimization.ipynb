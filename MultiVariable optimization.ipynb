{
 "cells": [
  {
   "cell_type": "markdown",
   "metadata": {},
   "source": [
    "# BatchGD"
   ]
  },
  {
   "cell_type": "code",
   "execution_count": 255,
   "metadata": {},
   "outputs": [],
   "source": [
    "import pandas as pd\n",
    "import numpy as np\n",
    "import matplotlib.pyplot as plt"
   ]
  },
  {
   "cell_type": "code",
   "execution_count": 256,
   "metadata": {},
   "outputs": [],
   "source": [
    "data=pd.read_csv(\"MultipleLR.csv\")"
   ]
  },
  {
   "cell_type": "code",
   "execution_count": 257,
   "metadata": {},
   "outputs": [
    {
     "data": {
      "text/plain": [
       "(24, 4)"
      ]
     },
     "execution_count": 257,
     "metadata": {},
     "output_type": "execute_result"
    }
   ],
   "source": [
    "data.shape"
   ]
  },
  {
   "cell_type": "code",
   "execution_count": 258,
   "metadata": {},
   "outputs": [
    {
     "data": {
      "text/html": [
       "<div>\n",
       "<style scoped>\n",
       "    .dataframe tbody tr th:only-of-type {\n",
       "        vertical-align: middle;\n",
       "    }\n",
       "\n",
       "    .dataframe tbody tr th {\n",
       "        vertical-align: top;\n",
       "    }\n",
       "\n",
       "    .dataframe thead th {\n",
       "        text-align: right;\n",
       "    }\n",
       "</style>\n",
       "<table border=\"1\" class=\"dataframe\">\n",
       "  <thead>\n",
       "    <tr style=\"text-align: right;\">\n",
       "      <th></th>\n",
       "      <th>73</th>\n",
       "      <th>80</th>\n",
       "      <th>75</th>\n",
       "      <th>152</th>\n",
       "    </tr>\n",
       "  </thead>\n",
       "  <tbody>\n",
       "    <tr>\n",
       "      <th>0</th>\n",
       "      <td>93</td>\n",
       "      <td>88</td>\n",
       "      <td>93</td>\n",
       "      <td>185</td>\n",
       "    </tr>\n",
       "    <tr>\n",
       "      <th>1</th>\n",
       "      <td>89</td>\n",
       "      <td>91</td>\n",
       "      <td>90</td>\n",
       "      <td>180</td>\n",
       "    </tr>\n",
       "    <tr>\n",
       "      <th>2</th>\n",
       "      <td>96</td>\n",
       "      <td>98</td>\n",
       "      <td>100</td>\n",
       "      <td>196</td>\n",
       "    </tr>\n",
       "    <tr>\n",
       "      <th>3</th>\n",
       "      <td>73</td>\n",
       "      <td>66</td>\n",
       "      <td>70</td>\n",
       "      <td>142</td>\n",
       "    </tr>\n",
       "    <tr>\n",
       "      <th>4</th>\n",
       "      <td>53</td>\n",
       "      <td>46</td>\n",
       "      <td>55</td>\n",
       "      <td>101</td>\n",
       "    </tr>\n",
       "    <tr>\n",
       "      <th>5</th>\n",
       "      <td>69</td>\n",
       "      <td>74</td>\n",
       "      <td>77</td>\n",
       "      <td>149</td>\n",
       "    </tr>\n",
       "    <tr>\n",
       "      <th>6</th>\n",
       "      <td>47</td>\n",
       "      <td>56</td>\n",
       "      <td>60</td>\n",
       "      <td>115</td>\n",
       "    </tr>\n",
       "    <tr>\n",
       "      <th>7</th>\n",
       "      <td>87</td>\n",
       "      <td>79</td>\n",
       "      <td>90</td>\n",
       "      <td>175</td>\n",
       "    </tr>\n",
       "    <tr>\n",
       "      <th>8</th>\n",
       "      <td>79</td>\n",
       "      <td>70</td>\n",
       "      <td>88</td>\n",
       "      <td>164</td>\n",
       "    </tr>\n",
       "    <tr>\n",
       "      <th>9</th>\n",
       "      <td>69</td>\n",
       "      <td>70</td>\n",
       "      <td>73</td>\n",
       "      <td>141</td>\n",
       "    </tr>\n",
       "    <tr>\n",
       "      <th>10</th>\n",
       "      <td>70</td>\n",
       "      <td>65</td>\n",
       "      <td>74</td>\n",
       "      <td>141</td>\n",
       "    </tr>\n",
       "    <tr>\n",
       "      <th>11</th>\n",
       "      <td>93</td>\n",
       "      <td>95</td>\n",
       "      <td>91</td>\n",
       "      <td>184</td>\n",
       "    </tr>\n",
       "    <tr>\n",
       "      <th>12</th>\n",
       "      <td>79</td>\n",
       "      <td>80</td>\n",
       "      <td>73</td>\n",
       "      <td>152</td>\n",
       "    </tr>\n",
       "    <tr>\n",
       "      <th>13</th>\n",
       "      <td>70</td>\n",
       "      <td>73</td>\n",
       "      <td>78</td>\n",
       "      <td>148</td>\n",
       "    </tr>\n",
       "    <tr>\n",
       "      <th>14</th>\n",
       "      <td>93</td>\n",
       "      <td>89</td>\n",
       "      <td>96</td>\n",
       "      <td>192</td>\n",
       "    </tr>\n",
       "    <tr>\n",
       "      <th>15</th>\n",
       "      <td>78</td>\n",
       "      <td>75</td>\n",
       "      <td>68</td>\n",
       "      <td>147</td>\n",
       "    </tr>\n",
       "    <tr>\n",
       "      <th>16</th>\n",
       "      <td>81</td>\n",
       "      <td>90</td>\n",
       "      <td>93</td>\n",
       "      <td>183</td>\n",
       "    </tr>\n",
       "    <tr>\n",
       "      <th>17</th>\n",
       "      <td>88</td>\n",
       "      <td>92</td>\n",
       "      <td>86</td>\n",
       "      <td>177</td>\n",
       "    </tr>\n",
       "    <tr>\n",
       "      <th>18</th>\n",
       "      <td>78</td>\n",
       "      <td>83</td>\n",
       "      <td>77</td>\n",
       "      <td>159</td>\n",
       "    </tr>\n",
       "    <tr>\n",
       "      <th>19</th>\n",
       "      <td>82</td>\n",
       "      <td>86</td>\n",
       "      <td>90</td>\n",
       "      <td>177</td>\n",
       "    </tr>\n",
       "    <tr>\n",
       "      <th>20</th>\n",
       "      <td>86</td>\n",
       "      <td>82</td>\n",
       "      <td>89</td>\n",
       "      <td>175</td>\n",
       "    </tr>\n",
       "    <tr>\n",
       "      <th>21</th>\n",
       "      <td>78</td>\n",
       "      <td>83</td>\n",
       "      <td>85</td>\n",
       "      <td>175</td>\n",
       "    </tr>\n",
       "    <tr>\n",
       "      <th>22</th>\n",
       "      <td>76</td>\n",
       "      <td>83</td>\n",
       "      <td>71</td>\n",
       "      <td>149</td>\n",
       "    </tr>\n",
       "    <tr>\n",
       "      <th>23</th>\n",
       "      <td>96</td>\n",
       "      <td>93</td>\n",
       "      <td>95</td>\n",
       "      <td>192</td>\n",
       "    </tr>\n",
       "  </tbody>\n",
       "</table>\n",
       "</div>"
      ],
      "text/plain": [
       "    73  80   75  152\n",
       "0   93  88   93  185\n",
       "1   89  91   90  180\n",
       "2   96  98  100  196\n",
       "3   73  66   70  142\n",
       "4   53  46   55  101\n",
       "5   69  74   77  149\n",
       "6   47  56   60  115\n",
       "7   87  79   90  175\n",
       "8   79  70   88  164\n",
       "9   69  70   73  141\n",
       "10  70  65   74  141\n",
       "11  93  95   91  184\n",
       "12  79  80   73  152\n",
       "13  70  73   78  148\n",
       "14  93  89   96  192\n",
       "15  78  75   68  147\n",
       "16  81  90   93  183\n",
       "17  88  92   86  177\n",
       "18  78  83   77  159\n",
       "19  82  86   90  177\n",
       "20  86  82   89  175\n",
       "21  78  83   85  175\n",
       "22  76  83   71  149\n",
       "23  96  93   95  192"
      ]
     },
     "execution_count": 258,
     "metadata": {},
     "output_type": "execute_result"
    }
   ],
   "source": [
    "data"
   ]
  },
  {
   "cell_type": "code",
   "execution_count": 259,
   "metadata": {},
   "outputs": [],
   "source": [
    "data=data.values"
   ]
  },
  {
   "cell_type": "code",
   "execution_count": 260,
   "metadata": {},
   "outputs": [],
   "source": [
    "Y=data[:,-1]\n",
    "Y=Y.reshape(24,1)"
   ]
  },
  {
   "cell_type": "code",
   "execution_count": 261,
   "metadata": {},
   "outputs": [
    {
     "data": {
      "text/plain": [
       "(24, 1)"
      ]
     },
     "execution_count": 261,
     "metadata": {},
     "output_type": "execute_result"
    }
   ],
   "source": [
    "x0=np.ones((data.shape[0],1))\n",
    "x0.shape"
   ]
  },
  {
   "cell_type": "code",
   "execution_count": 262,
   "metadata": {},
   "outputs": [
    {
     "data": {
      "text/plain": [
       "(24,)"
      ]
     },
     "execution_count": 262,
     "metadata": {},
     "output_type": "execute_result"
    }
   ],
   "source": [
    "x=data[:,: -1]\n",
    "x[:,0].shape"
   ]
  },
  {
   "cell_type": "code",
   "execution_count": 367,
   "metadata": {},
   "outputs": [
    {
     "data": {
      "text/plain": [
       "(24, 4)"
      ]
     },
     "execution_count": 367,
     "metadata": {},
     "output_type": "execute_result"
    }
   ],
   "source": [
    "X=np.concatenate((x0,x),axis=1)\n",
    "X.shape"
   ]
  },
  {
   "cell_type": "code",
   "execution_count": 368,
   "metadata": {},
   "outputs": [],
   "source": [
    "def batch_GD(iterations,alpha,X,Y):\n",
    "    m=X.shape[0]\n",
    "    n=X.shape[1]\n",
    "    thetas=np.zeros((n,1))\n",
    "    cost_list=[]\n",
    "    theta_list=[]\n",
    "    for i in range(iterations):\n",
    "        h=np.dot(X,thetas).reshape(m,1)\n",
    "        error=h-Y\n",
    "        cost=(1/(2*m))*np.dot(error.T,error)\n",
    "        cost_list.append(cost.item())\n",
    "        theta_list.append(thetas)\n",
    "        gradient=(1/m)*np.dot(X.T,error).reshape(n,1)\n",
    "        thetas=thetas-gradient*alpha\n",
    "        if(np.linalg.norm(gradient)<5):\n",
    "            print(\"stopped at {} iteration\".format(i))\n",
    "            break\n",
    "            \n",
    "    return cost_list,theta_list"
   ]
  },
  {
   "cell_type": "code",
   "execution_count": 369,
   "metadata": {},
   "outputs": [
    {
     "name": "stdout",
     "output_type": "stream",
     "text": [
      "stopped at 377 iteration\n"
     ]
    }
   ],
   "source": [
    "c,t=batch_GD(1000,0.0001,X,Y)"
   ]
  },
  {
   "cell_type": "code",
   "execution_count": 370,
   "metadata": {},
   "outputs": [
    {
     "data": {
      "text/plain": [
       "[<matplotlib.lines.Line2D at 0x29c1eac5f70>]"
      ]
     },
     "execution_count": 370,
     "metadata": {},
     "output_type": "execute_result"
    },
    {
     "data": {
      "image/png": "[encoded data removed]",
      "text/plain": [
       "<Figure size 432x288 with 1 Axes>"
      ]
     },
     "metadata": {
      "needs_background": "light"
     },
     "output_type": "display_data"
    }
   ],
   "source": [
    "plt.plot(c)"
   ]
  },
  {
   "cell_type": "code",
   "execution_count": 371,
   "metadata": {},
   "outputs": [],
   "source": [
    "x_gen=np.linspace(0,20,30)\n",
    "y_gen=-2*x_gen+1"
   ]
  },
  {
   "cell_type": "code",
   "execution_count": 372,
   "metadata": {},
   "outputs": [
    {
     "data": {
      "text/plain": [
       "30"
      ]
     },
     "execution_count": 372,
     "metadata": {},
     "output_type": "execute_result"
    }
   ],
   "source": [
    "x_gen.shape[0]"
   ]
  },
  {
   "cell_type": "markdown",
   "metadata": {},
   "source": [
    "# Stocastic GD"
   ]
  },
  {
   "cell_type": "code",
   "execution_count": 373,
   "metadata": {},
   "outputs": [],
   "source": [
    "def stochastic(X,y,alpha,iterations,threshold):\n",
    "    m=X.shape[0]\n",
    "    theta0=0\n",
    "    theta1=0\n",
    "    theta0_list=[]\n",
    "    theta1_list=[]\n",
    "    cost_list=[]\n",
    "    for i in range(iterations):\n",
    "        for j in range(m):\n",
    "            hypothesis=theta0+theta1*X[j]\n",
    "            error=hypothesis-y[j]\n",
    "    \n",
    "            theta0_list.append(theta0)\n",
    "            theta1_list.append(theta1)\n",
    "            cost=(1/2)*(np.square(error))\n",
    "            cost_list.append(cost)\n",
    "   \n",
    "            gradient0=error\n",
    "            gradient1=error*X[j]\n",
    "            theta0=theta0-alpha*gradient0\n",
    "            theta1=theta1-alpha*gradient1\n",
    "            \n",
    "        if(abs(cost_list[i*m]-cost_list[(i-1)*m])<threshold and i>0):\n",
    "            print(i)\n",
    "            break\n",
    "            \n",
    "    return cost_list,theta0_list,theta1_list\n",
    "            "
   ]
  },
  {
   "cell_type": "code",
   "execution_count": 374,
   "metadata": {},
   "outputs": [],
   "source": [
    "###shuffle  data\n",
    "from sklearn.utils import shuffle\n",
    "x_shuffled, y_shuffled = shuffle(x_gen, y_gen)"
   ]
  },
  {
   "cell_type": "code",
   "execution_count": 375,
   "metadata": {},
   "outputs": [
    {
     "name": "stdout",
     "output_type": "stream",
     "text": [
      "3\n"
     ]
    }
   ],
   "source": [
    "cost_list,theta0_list,theta1_list=stochastic(x_shuffled,y_shuffled,0.001,1000,0.0001)"
   ]
  },
  {
   "cell_type": "code",
   "execution_count": 376,
   "metadata": {},
   "outputs": [
    {
     "data": {
      "text/plain": [
       "[<matplotlib.lines.Line2D at 0x29c1eb36700>]"
      ]
     },
     "execution_count": 376,
     "metadata": {},
     "output_type": "execute_result"
    },
    {
     "data": {
      "image/png": "[encoded data removed]",
      "text/plain": [
       "<Figure size 432x288 with 1 Axes>"
      ]
     },
     "metadata": {
      "needs_background": "light"
     },
     "output_type": "display_data"
    }
   ],
   "source": [
    "plt.plot(cost_list)"
   ]
  },
  {
   "cell_type": "markdown",
   "metadata": {},
   "source": [
    "# Mini Batch"
   ]
  },
  {
   "cell_type": "code",
   "execution_count": 377,
   "metadata": {},
   "outputs": [],
   "source": [
    "from sklearn.utils import shuffle\n",
    "x_shuffled, y_shuffled = shuffle(X, Y)"
   ]
  },
  {
   "cell_type": "code",
   "execution_count": 378,
   "metadata": {},
   "outputs": [],
   "source": [
    "def generate_batches(X,y,batch_size):\n",
    "    for i in range(0,len(X),batch_size):\n",
    "        yield X[: batch_size,:],y[: batch_size,:]\n",
    "        "
   ]
  },
  {
   "cell_type": "code",
   "execution_count": 379,
   "metadata": {},
   "outputs": [],
   "source": [
    "def mini_batch_vectorized(X,y,iterations,threshold,batch_size,alpha):\n",
    "    n=X.shape[1]\n",
    "    m=X.shape[0]\n",
    "    cost_list=[]\n",
    "    theta_list=[]\n",
    "    no_of_batches=int(np.ceil(m/batch_size))\n",
    "    theta=np.zeros((n,1))\n",
    "    for i in range(iterations):\n",
    "        for x_batch,y_batch in generate_batches(X,y,batch_size):\n",
    "            hypothesis=np.dot(x_batch,theta).reshape(batch_size,1)\n",
    "            error=hypothesis-y_batch\n",
    "            cost=(1/2*(batch_size))*np.dot(error.T,error).reshape(1,1)\n",
    "            cost_list.append(cost.item())\n",
    "            theta_list.append(theta)\n",
    "            gradient=(1/(batch_size))*np.dot(error.T,x_batch).reshape(n,1)\n",
    "            theta=theta-alpha*gradient\n",
    "        if(abs(cost_list[i*no_of_batches]-cost_list[(i-1)*no_of_batches])<threshold and i>0):\n",
    "            print(i)\n",
    "            break\n",
    "    return cost_list,theta_list\n",
    "        \n",
    "\n",
    "    "
   ]
  },
  {
   "cell_type": "code",
   "execution_count": 380,
   "metadata": {},
   "outputs": [
    {
     "name": "stdout",
     "output_type": "stream",
     "text": [
      "6\n"
     ]
    }
   ],
   "source": [
    "cost_list,theta_list=mini_batch_vectorized(x_shuffled,y_shuffled,1000,5,5,0.00001)"
   ]
  },
  {
   "cell_type": "code",
   "execution_count": 381,
   "metadata": {},
   "outputs": [
    {
     "data": {
      "text/plain": [
       "[<matplotlib.lines.Line2D at 0x29c1eb9bbb0>]"
      ]
     },
     "execution_count": 381,
     "metadata": {},
     "output_type": "execute_result"
    },
    {
     "data": {
      "image/png": "[encoded data removed]",
      "text/plain": [
       "<Figure size 432x288 with 1 Axes>"
      ]
     },
     "metadata": {
      "needs_background": "light"
     },
     "output_type": "display_data"
    }
   ],
   "source": [
    "plt.plot(cost_list)"
   ]
  },
  {
   "cell_type": "code",
   "execution_count": 382,
   "metadata": {},
   "outputs": [],
   "source": [
    "theta0=[]\n",
    "theta1=[]\n",
    "theta2=[]\n",
    "for item in theta_list:\n",
    "    theta0.append(item[1])\n",
    "   # theta1.append(item[1])\n",
    "   # theta2.append(item[2])\n",
    "    "
   ]
  },
  {
   "cell_type": "code",
   "execution_count": 383,
   "metadata": {},
   "outputs": [
    {
     "data": {
      "text/plain": [
       "[<matplotlib.lines.Line2D at 0x29c1da44b50>]"
      ]
     },
     "execution_count": 383,
     "metadata": {},
     "output_type": "execute_result"
    },
    {
     "data": {
      "image/png": "[encoded data removed]",
      "text/plain": [
       "<Figure size 432x288 with 1 Axes>"
      ]
     },
     "metadata": {
      "needs_background": "light"
     },
     "output_type": "display_data"
    }
   ],
   "source": [
    "plt.plot(theta0,cost_list,'-o')"
   ]
  },
  {
   "cell_type": "markdown",
   "metadata": {},
   "source": []
  },
  {
   "cell_type": "markdown",
   "metadata": {},
   "source": [
    "# Batch+Momentum "
   ]
  },
  {
   "cell_type": "code",
   "execution_count": 384,
   "metadata": {},
   "outputs": [],
   "source": [
    "def batch_GD_momentum(iterations,alpha,gamma,X,Y):\n",
    "    m=X.shape[0]\n",
    "    n=X.shape[1]\n",
    "    mt=np.zeros((n,1))\n",
    "    thetas=np.zeros((n,1))\n",
    "    cost_list=[]\n",
    "    theta_list=[]\n",
    "    for i in range(iterations):\n",
    "        h=np.dot(X,thetas).reshape(m,1)\n",
    "        error=h-Y\n",
    "        cost=(1/(2*m))*np.dot(error.T,error)\n",
    "        cost_list.append(cost.item())\n",
    "        theta_list.append(thetas)\n",
    "        gradient=(1/m)*np.dot(X.T,error).reshape(n,1)\n",
    "        mt=gamma*mt+alpha*gradient\n",
    "        thetas=thetas-mt\n",
    "        if(np.linalg.norm(gradient)<10):\n",
    "            print(\"stopped at {} iteration\".format(i))\n",
    "            break\n",
    "        if(abs(cost_list[i]-cost_list[i-1])<0.001 and i>0):\n",
    "            print(i)\n",
    "            break\n",
    "            \n",
    "    return cost_list,theta_list"
   ]
  },
  {
   "cell_type": "code",
   "execution_count": 385,
   "metadata": {},
   "outputs": [
    {
     "name": "stdout",
     "output_type": "stream",
     "text": [
      "117\n"
     ]
    }
   ],
   "source": [
    "c,t=batch_GD_momentum(1000,0.000001,0.9,X,Y)"
   ]
  },
  {
   "cell_type": "code",
   "execution_count": 386,
   "metadata": {},
   "outputs": [
    {
     "data": {
      "text/plain": [
       "[<matplotlib.lines.Line2D at 0x29c1ec5f7f0>]"
      ]
     },
     "execution_count": 386,
     "metadata": {},
     "output_type": "execute_result"
    },
    {
     "data": {
      "image/png": "[encoded data removed]",
      "text/plain": [
       "<Figure size 432x288 with 1 Axes>"
      ]
     },
     "metadata": {
      "needs_background": "light"
     },
     "output_type": "display_data"
    }
   ],
   "source": [
    "plt.plot(c)"
   ]
  },
  {
   "cell_type": "code",
   "execution_count": 387,
   "metadata": {},
   "outputs": [],
   "source": [
    "theta0=[]\n",
    "theta1=[]\n",
    "theta2=[]\n",
    "for item in t:\n",
    "    theta0.append(item[1])\n",
    "   # theta1.append(item[1])\n",
    "   # theta2.append(item[2])"
   ]
  },
  {
   "cell_type": "code",
   "execution_count": 388,
   "metadata": {},
   "outputs": [
    {
     "data": {
      "text/plain": [
       "[<matplotlib.lines.Line2D at 0x29c1ecd0280>]"
      ]
     },
     "execution_count": 388,
     "metadata": {},
     "output_type": "execute_result"
    },
    {
     "data": {
      "image/png": "[encoded data removed]",
      "text/plain": [
       "<Figure size 432x288 with 1 Axes>"
      ]
     },
     "metadata": {
      "needs_background": "light"
     },
     "output_type": "display_data"
    }
   ],
   "source": [
    "plt.plot(theta0,c,'-o')"
   ]
  },
  {
   "cell_type": "markdown",
   "metadata": {},
   "source": [
    "# Mini+Momentum"
   ]
  },
  {
   "cell_type": "code",
   "execution_count": 389,
   "metadata": {},
   "outputs": [],
   "source": [
    "def mini_batch_vectorized_momentum(X,y,iterations,threshold,batch_size,alpha,gamma):\n",
    "    n=X.shape[1]\n",
    "    m=X.shape[0]\n",
    "    mt=np.zeros((n,1))\n",
    "    cost_list=[]\n",
    "    theta_list=[]\n",
    "    no_of_batches=int(np.ceil(m/batch_size))\n",
    "    theta=np.zeros((n,1))\n",
    "    for i in range(iterations):\n",
    "        for x_batch,y_batch in generate_batches(X,y,batch_size):\n",
    "            hypothesis=np.dot(x_batch,theta).reshape(batch_size,1)\n",
    "            error=hypothesis-y_batch\n",
    "            cost=(1/2*(batch_size))*np.dot(error.T,error).reshape(1,1)\n",
    "            cost_list.append(cost.item())\n",
    "            theta_list.append(theta)\n",
    "            gradient=(1/(batch_size))*np.dot(error.T,x_batch).reshape(n,1)\n",
    "            mt=gamma*mt+alpha*gradient\n",
    "            theta=theta-mt\n",
    "        if(abs(cost_list[i*no_of_batches]-cost_list[(i-1)*no_of_batches])<threshold and i>0):\n",
    "            print(i)\n",
    "            break\n",
    "    return cost_list,theta_list\n",
    "        \n"
   ]
  },
  {
   "cell_type": "code",
   "execution_count": 390,
   "metadata": {},
   "outputs": [
    {
     "name": "stdout",
     "output_type": "stream",
     "text": [
      "21\n"
     ]
    }
   ],
   "source": [
    "cost_list,theta_list=mini_batch_vectorized_momentum(x_shuffled,y_shuffled,1000,5,5,0.000001,0.9)"
   ]
  },
  {
   "cell_type": "code",
   "execution_count": 391,
   "metadata": {},
   "outputs": [
    {
     "data": {
      "text/plain": [
       "[<matplotlib.lines.Line2D at 0x29c1ed39220>]"
      ]
     },
     "execution_count": 391,
     "metadata": {},
     "output_type": "execute_result"
    },
    {
     "data": {
      "image/png": "[encoded data removed]",
      "text/plain": [
       "<Figure size 432x288 with 1 Axes>"
      ]
     },
     "metadata": {
      "needs_background": "light"
     },
     "output_type": "display_data"
    }
   ],
   "source": [
    "plt.plot(cost_list)"
   ]
  },
  {
   "cell_type": "code",
   "execution_count": 392,
   "metadata": {},
   "outputs": [],
   "source": [
    "theta0=[]\n",
    "theta1=[]\n",
    "theta2=[]\n",
    "for item in theta_list:\n",
    "    theta0.append(item[1])\n",
    "   # theta1.append(item[1])\n",
    "   # theta2.append(item[2])\n",
    "    "
   ]
  },
  {
   "cell_type": "code",
   "execution_count": 393,
   "metadata": {},
   "outputs": [
    {
     "data": {
      "text/plain": [
       "[<matplotlib.lines.Line2D at 0x29c1ed73910>]"
      ]
     },
     "execution_count": 393,
     "metadata": {},
     "output_type": "execute_result"
    },
    {
     "data": {
      "image/png": "[encoded data removed]",
      "text/plain": [
       "<Figure size 432x288 with 1 Axes>"
      ]
     },
     "metadata": {
      "needs_background": "light"
     },
     "output_type": "display_data"
    }
   ],
   "source": [
    "plt.plot(theta0,cost_list,'-o')"
   ]
  },
  {
   "cell_type": "markdown",
   "metadata": {},
   "source": [
    "# Nestrov+Batch"
   ]
  },
  {
   "cell_type": "code",
   "execution_count": 394,
   "metadata": {},
   "outputs": [],
   "source": [
    "def batch_GD(iterations,alpha,gamma,X,Y,threshold):\n",
    "    m=X.shape[0]\n",
    "    n=X.shape[1]\n",
    "    thetas=np.zeros((n,1))\n",
    "    thetas_temp=np.zeros((n,1))\n",
    "    mt=np.zeros((n,1))\n",
    "    cost_list=[]\n",
    "    theta_list=[]\n",
    "    for i in range(iterations):\n",
    "        h=np.dot(X,thetas).reshape(m,1) ##cal hypothesis\n",
    "        error=h-Y #cal error\n",
    "        cost=(1/(2*m))*np.dot(error.T,error) #cal cost\n",
    "        \n",
    "        hypothesis_temp=np.dot(X,thetas_temp).reshape(m,1) #hyopthesis for theta temp\n",
    "        error_temp=hypothesis_temp-Y #error for theta temp\n",
    "        thetas_temp=thetas-gamma*mt #cal thetas_temp\n",
    "        gradient_thetas_temp=(1/m)*np.dot(error_temp.T,X).reshape(n,1) #cal gradient theta temp\n",
    "        thetas=thetas_temp-alpha*gradient_thetas_temp #update theta\n",
    "        mt=gamma*mt+alpha*gradient_thetas_temp #update mt\n",
    "        \n",
    "        theta_list.append(thetas)\n",
    "        cost_list.append(cost.item())\n",
    "        if(np.abs(cost_list[i]-cost_list[i-1]<threshold and i>0)):\n",
    "            print(\"stopped at {} iteration\".format(i))\n",
    "            break\n",
    "            \n",
    "    return cost_list,theta_list"
   ]
  },
  {
   "cell_type": "code",
   "execution_count": 395,
   "metadata": {},
   "outputs": [
    {
     "name": "stdout",
     "output_type": "stream",
     "text": [
      "stopped at 3 iteration\n"
     ]
    }
   ],
   "source": [
    "c,t=batch_GD(1000,0.00015,0.8,X,Y,0.00001)"
   ]
  },
  {
   "cell_type": "code",
   "execution_count": 396,
   "metadata": {},
   "outputs": [
    {
     "data": {
      "text/plain": [
       "[<matplotlib.lines.Line2D at 0x29c1ee032e0>]"
      ]
     },
     "execution_count": 396,
     "metadata": {},
     "output_type": "execute_result"
    },
    {
     "data": {
      "image/png": "[encoded data removed]",
      "text/plain": [
       "<Figure size 432x288 with 1 Axes>"
      ]
     },
     "metadata": {
      "needs_background": "light"
     },
     "output_type": "display_data"
    }
   ],
   "source": [
    "plt.plot(c)"
   ]
  },
  {
   "cell_type": "markdown",
   "metadata": {},
   "source": [
    "# Batch+AdaGrad"
   ]
  },
  {
   "cell_type": "code",
   "execution_count": 397,
   "metadata": {},
   "outputs": [],
   "source": [
    "def batch_GD_adagrad(iterations,alpha,X,Y):\n",
    "    m=X.shape[0]\n",
    "    n=X.shape[1]\n",
    "    thetas=np.zeros((n,1))\n",
    "    vt=np.zeros((n,1))\n",
    "    eps=0.00001\n",
    "    cost_list=[]\n",
    "    theta_list=[]\n",
    "    for i in range(iterations):\n",
    "        h=np.dot(X,thetas).reshape(m,1)\n",
    "        error=h-Y\n",
    "        cost=(1/(2*m))*np.dot(error.T,error)\n",
    "        theta_list.append(thetas)\n",
    "        cost_list.append(cost.item())\n",
    "        gradient=(1/m)*np.dot(X.T,error).reshape(n,1)\n",
    "        vt=vt+gradient**2\n",
    "        thetas=thetas-gradient*(alpha/np.sqrt(vt+eps))\n",
    "        if(abs(cost_list[i]-cost_list[i-1])<0.01 and i>0):\n",
    "              print(\"stopped at {} iteration\".format(i))\n",
    "              break\n",
    "            \n",
    "    return cost_list,theta_list"
   ]
  },
  {
   "cell_type": "code",
   "execution_count": 398,
   "metadata": {},
   "outputs": [
    {
     "name": "stdout",
     "output_type": "stream",
     "text": [
      "stopped at 88 iteration\n"
     ]
    }
   ],
   "source": [
    "c,t=batch_GD_adagrad(100,0.1,X,Y)"
   ]
  },
  {
   "cell_type": "code",
   "execution_count": 399,
   "metadata": {},
   "outputs": [
    {
     "data": {
      "text/plain": [
       "[<matplotlib.lines.Line2D at 0x29c1ee6e4f0>]"
      ]
     },
     "execution_count": 399,
     "metadata": {},
     "output_type": "execute_result"
    },
    {
     "data": {
      "image/png": "[encoded data removed]",
      "text/plain": [
       "<Figure size 432x288 with 1 Axes>"
      ]
     },
     "metadata": {
      "needs_background": "light"
     },
     "output_type": "display_data"
    }
   ],
   "source": [
    "plt.plot(c)"
   ]
  },
  {
   "cell_type": "code",
   "execution_count": 400,
   "metadata": {},
   "outputs": [],
   "source": [
    "theta0=[]\n",
    "theta1=[]\n",
    "theta2=[]\n",
    "for item in t:\n",
    "    theta0.append(item[1])\n",
    "   # theta1.append(item[1])\n",
    "   # theta2.append(item[2])"
   ]
  },
  {
   "cell_type": "code",
   "execution_count": 401,
   "metadata": {},
   "outputs": [
    {
     "data": {
      "text/plain": [
       "[<matplotlib.lines.Line2D at 0x29c1eecba30>]"
      ]
     },
     "execution_count": 401,
     "metadata": {},
     "output_type": "execute_result"
    },
    {
     "data": {
      "image/png": "[encoded data removed]",
      "text/plain": [
       "<Figure size 432x288 with 1 Axes>"
      ]
     },
     "metadata": {
      "needs_background": "light"
     },
     "output_type": "display_data"
    }
   ],
   "source": [
    "plt.plot(theta0,c,'-o')"
   ]
  },
  {
   "cell_type": "markdown",
   "metadata": {},
   "source": [
    "# MiniBatch+Adagrad"
   ]
  },
  {
   "cell_type": "code",
   "execution_count": 402,
   "metadata": {},
   "outputs": [],
   "source": [
    "def mini_batch_vectorized_adagrad(X,y,iterations,threshold,batch_size,alpha):\n",
    "    n=X.shape[1]\n",
    "    m=X.shape[0]\n",
    "    vt=np.zeros((n,1))\n",
    "    eps=0.0001\n",
    "    cost_list=[]\n",
    "    theta_list=[]\n",
    "    no_of_batches=int(np.ceil(m/batch_size))\n",
    "    theta=np.zeros((n,1))\n",
    "    for i in range(iterations):\n",
    "        for x_batch,y_batch in generate_batches(X,y,batch_size):\n",
    "            hypothesis=np.dot(x_batch,theta).reshape(batch_size,1)\n",
    "            error=hypothesis-y_batch\n",
    "            cost=(1/2*(batch_size))*np.dot(error.T,error).reshape(1,1)\n",
    "            cost_list.append(cost.item())\n",
    "            theta_list.append(theta)\n",
    "            gradient=(1/(batch_size))*np.dot(error.T,x_batch).reshape(n,1)\n",
    "            vt=vt+gradient**2\n",
    "            theta=theta-gradient*(alpha/np.sqrt(vt+eps))\n",
    "        if(abs(cost_list[i*no_of_batches]-cost_list[(i-1)*no_of_batches])<threshold and i>0):\n",
    "            print(i)\n",
    "            break\n",
    "    return cost_list,theta_list\n",
    "        \n",
    "\n",
    "    "
   ]
  },
  {
   "cell_type": "code",
   "execution_count": 417,
   "metadata": {},
   "outputs": [
    {
     "name": "stdout",
     "output_type": "stream",
     "text": [
      "655\n"
     ]
    }
   ],
   "source": [
    "c,t=mini_batch_vectorized_adagrad(x_shuffled,y_shuffled,1000,5,5,0.01)"
   ]
  },
  {
   "cell_type": "code",
   "execution_count": 418,
   "metadata": {},
   "outputs": [
    {
     "data": {
      "text/plain": [
       "[<matplotlib.lines.Line2D at 0x29c1f314850>]"
      ]
     },
     "execution_count": 418,
     "metadata": {},
     "output_type": "execute_result"
    },
    {
     "data": {
      "image/png": "[encoded data removed]",
      "text/plain": [
       "<Figure size 432x288 with 1 Axes>"
      ]
     },
     "metadata": {
      "needs_background": "light"
     },
     "output_type": "display_data"
    }
   ],
   "source": [
    "plt.plot(c)"
   ]
  },
  {
   "cell_type": "code",
   "execution_count": 419,
   "metadata": {},
   "outputs": [],
   "source": [
    "theta0=[]\n",
    "theta1=[]\n",
    "theta2=[]\n",
    "for item in t:\n",
    "    theta0.append(item[1])\n",
    "    theta1.append(item[2])\n",
    "   # theta2.append(item[2])"
   ]
  },
  {
   "cell_type": "code",
   "execution_count": 420,
   "metadata": {},
   "outputs": [
    {
     "data": {
      "text/plain": [
       "[<matplotlib.lines.Line2D at 0x29c1f12cf40>]"
      ]
     },
     "execution_count": 420,
     "metadata": {},
     "output_type": "execute_result"
    },
    {
     "data": {
      "image/png": "[encoded data removed]",
      "text/plain": [
       "<Figure size 432x288 with 1 Axes>"
      ]
     },
     "metadata": {
      "needs_background": "light"
     },
     "output_type": "display_data"
    }
   ],
   "source": [
    "plt.plot(theta1,c,'-o')"
   ]
  },
  {
   "cell_type": "code",
   "execution_count": 449,
   "metadata": {},
   "outputs": [],
   "source": [
    "teams=['afnan','lauren','bedo','emad','anter','mohand','abdelrahman3','abdallah','yasser']"
   ]
  },
  {
   "cell_type": "code",
   "execution_count": 450,
   "metadata": {},
   "outputs": [],
   "source": [
    "def del_member():\n",
    "    for i in x:\n",
    "        teams.remove(i)"
   ]
  },
  {
   "cell_type": "code",
   "execution_count": null,
   "metadata": {},
   "outputs": [],
   "source": [
    "for i in range(3):\n",
    "    x=np.random.choice(teams,3,replace=False)\n",
    "    print(x)\n",
    "    del_member()\n",
    "    "
   ]
  },
  {
   "cell_type": "markdown",
   "metadata": {},
   "source": [
    "# Batch+Rms"
   ]
  },
  {
   "cell_type": "code",
   "execution_count": 458,
   "metadata": {},
   "outputs": [],
   "source": [
    "def batch_GD_RMS(iterations,alpha,beta,X,Y):\n",
    "    m=X.shape[0]\n",
    "    n=X.shape[1]\n",
    "    thetas=np.zeros((n,1))\n",
    "    vt=np.zeros((n,1))\n",
    "    eps=0.00001\n",
    "    cost_list=[]\n",
    "    theta_list=[]\n",
    "    for i in range(iterations):\n",
    "        h=np.dot(X,thetas).reshape(m,1)\n",
    "        error=h-Y\n",
    "        cost=(1/(2*m))*np.dot(error.T,error)\n",
    "        theta_list.append(thetas)\n",
    "        cost_list.append(cost.item())\n",
    "        gradient=(1/m)*np.dot(X.T,error).reshape(n,1)\n",
    "        vt=beta*vt+(1-beta)*gradient**2\n",
    "        thetas=thetas-gradient*(alpha/np.sqrt(vt+eps))\n",
    "        if(abs(cost_list[i]-cost_list[i-1])<0.0001 and i>0):\n",
    "              print(\"stopped at {} iteration\".format(i))\n",
    "              break\n",
    "            \n",
    "    return cost_list,theta_list"
   ]
  },
  {
   "cell_type": "code",
   "execution_count": 481,
   "metadata": {},
   "outputs": [
    {
     "name": "stdout",
     "output_type": "stream",
     "text": [
      "stopped at 205 iteration\n"
     ]
    }
   ],
   "source": [
    "c,t=batch_GD_RMS(1000,0.01,0.9,X,Y)"
   ]
  },
  {
   "cell_type": "code",
   "execution_count": 482,
   "metadata": {},
   "outputs": [
    {
     "data": {
      "text/plain": [
       "[<matplotlib.lines.Line2D at 0x29c209ac760>]"
      ]
     },
     "execution_count": 482,
     "metadata": {},
     "output_type": "execute_result"
    },
    {
     "data": {
      "image/png": "[encoded data removed]",
      "text/plain": [
       "<Figure size 432x288 with 1 Axes>"
      ]
     },
     "metadata": {
      "needs_background": "light"
     },
     "output_type": "display_data"
    }
   ],
   "source": [
    "plt.plot(c)"
   ]
  },
  {
   "cell_type": "code",
   "execution_count": 483,
   "metadata": {},
   "outputs": [],
   "source": [
    "theta0=[]\n",
    "theta1=[]\n",
    "theta2=[]\n",
    "for item in t:\n",
    "    theta0.append(item[0])\n",
    "    theta1.append(item[2])\n",
    "   # theta2.append(item[2])"
   ]
  },
  {
   "cell_type": "code",
   "execution_count": 484,
   "metadata": {},
   "outputs": [
    {
     "data": {
      "text/plain": [
       "[<matplotlib.lines.Line2D at 0x29c206211f0>]"
      ]
     },
     "execution_count": 484,
     "metadata": {},
     "output_type": "execute_result"
    },
    {
     "data": {
      "image/png": "[encoded data removed]",
      "text/plain": [
       "<Figure size 432x288 with 1 Axes>"
      ]
     },
     "metadata": {
      "needs_background": "light"
     },
     "output_type": "display_data"
    }
   ],
   "source": [
    "plt.plot(theta0,c,'-o')"
   ]
  },
  {
   "cell_type": "markdown",
   "metadata": {},
   "source": [
    "# MiniBatch+Rms"
   ]
  },
  {
   "cell_type": "code",
   "execution_count": 491,
   "metadata": {},
   "outputs": [],
   "source": [
    "def mini_batch_vectorized_RMS(X,y,iterations,threshold,batch_size,alpha,beta):\n",
    "    n=X.shape[1]\n",
    "    m=X.shape[0]\n",
    "    vt=np.zeros((n,1))\n",
    "    eps=0.0001\n",
    "    cost_list=[]\n",
    "    theta_list=[]\n",
    "    no_of_batches=int(np.ceil(m/batch_size))\n",
    "    theta=np.zeros((n,1))\n",
    "    for i in range(iterations):\n",
    "        for x_batch,y_batch in generate_batches(X,y,batch_size):\n",
    "            hypothesis=np.dot(x_batch,theta).reshape(batch_size,1)\n",
    "            error=hypothesis-y_batch\n",
    "            cost=(1/2*(batch_size))*np.dot(error.T,error).reshape(1,1)\n",
    "            cost_list.append(cost.item())\n",
    "            theta_list.append(theta)\n",
    "            gradient=(1/(batch_size))*np.dot(error.T,x_batch).reshape(n,1)\n",
    "            vt=beta*vt+(1-beta)*gradient**2\n",
    "            theta=theta-gradient*(alpha/np.sqrt(vt+eps))\n",
    "        if(abs(cost_list[i*no_of_batches]-cost_list[(i-1)*no_of_batches])<threshold and i>0):\n",
    "            print(i)\n",
    "            break\n",
    "    return cost_list,theta_list"
   ]
  },
  {
   "cell_type": "code",
   "execution_count": 492,
   "metadata": {},
   "outputs": [
    {
     "name": "stdout",
     "output_type": "stream",
     "text": [
      "20\n"
     ]
    }
   ],
   "source": [
    "c,t=mini_batch_vectorized_RMS(x_shuffled,y_shuffled,1000,5,5,0.01,0.9)"
   ]
  },
  {
   "cell_type": "code",
   "execution_count": 493,
   "metadata": {},
   "outputs": [
    {
     "data": {
      "text/plain": [
       "[<matplotlib.lines.Line2D at 0x29c20a5d670>]"
      ]
     },
     "execution_count": 493,
     "metadata": {},
     "output_type": "execute_result"
    },
    {
     "data": {
      "image/png": "[encoded data removed]",
      "text/plain": [
       "<Figure size 432x288 with 1 Axes>"
      ]
     },
     "metadata": {
      "needs_background": "light"
     },
     "output_type": "display_data"
    }
   ],
   "source": [
    "plt.plot(c)"
   ]
  },
  {
   "cell_type": "code",
   "execution_count": 494,
   "metadata": {},
   "outputs": [],
   "source": [
    "theta0=[]\n",
    "theta1=[]\n",
    "theta2=[]\n",
    "for item in t:\n",
    "    theta0.append(item[0])\n",
    "    theta1.append(item[2])\n",
    "   # theta2.append(item[2])"
   ]
  },
  {
   "cell_type": "code",
   "execution_count": 495,
   "metadata": {},
   "outputs": [
    {
     "data": {
      "text/plain": [
       "[<matplotlib.lines.Line2D at 0x29c20a5db80>]"
      ]
     },
     "execution_count": 495,
     "metadata": {},
     "output_type": "execute_result"
    },
    {
     "data": {
      "image/png": "[encoded data removed]",
      "text/plain": [
       "<Figure size 432x288 with 1 Axes>"
      ]
     },
     "metadata": {
      "needs_background": "light"
     },
     "output_type": "display_data"
    }
   ],
   "source": [
    "plt.plot(theta0,c,'-o')"
   ]
  },
  {
   "cell_type": "markdown",
   "metadata": {},
   "source": [
    "# Adam+MiniBatch "
   ]
  },
  {
   "cell_type": "code",
   "execution_count": 502,
   "metadata": {},
   "outputs": [],
   "source": [
    "def mini_batch_vectorized_adam(X,y,iterations,threshold,batch_size,alpha,beta1,beta2):\n",
    "    n=X.shape[1]\n",
    "    m=X.shape[0]\n",
    "    vt=np.zeros((n,1))\n",
    "    mt=np.zeros((n,1))\n",
    "    eps=0.0001\n",
    "    cost_list=[]\n",
    "    theta_list=[]\n",
    "    no_of_batches=int(np.ceil(m/batch_size))\n",
    "    theta=np.zeros((n,1))\n",
    "    for i in range(iterations):\n",
    "        for x_batch,y_batch in generate_batches(X,y,batch_size):\n",
    "            hypothesis=np.dot(x_batch,theta).reshape(batch_size,1)\n",
    "            error=hypothesis-y_batch\n",
    "            cost=(1/2*(batch_size))*np.dot(error.T,error).reshape(1,1)\n",
    "            cost_list.append(cost.item())\n",
    "            theta_list.append(theta)\n",
    "            gradient=(1/(batch_size))*np.dot(error.T,x_batch).reshape(n,1)\n",
    "            mt=beta1*mt+(1-beta1)*gradient\n",
    "            vt=beta2*vt+(1-beta2)*(gradient**2)\n",
    "            mthat=mt/(1-beta1)\n",
    "            vthat=vt/(1-beta2)\n",
    "            theta=theta-mthat*(alpha/np.sqrt(vthat+eps))\n",
    "        if(abs(cost_list[i*no_of_batches]-cost_list[(i-1)*no_of_batches])<threshold and i>0):\n",
    "            print(i)\n",
    "            break\n",
    "    return cost_list,theta_list"
   ]
  },
  {
   "cell_type": "code",
   "execution_count": 503,
   "metadata": {},
   "outputs": [
    {
     "name": "stdout",
     "output_type": "stream",
     "text": [
      "52\n"
     ]
    }
   ],
   "source": [
    "c,t=mini_batch_vectorized_adam(x_shuffled,y_shuffled,1000,5,5,0.001,0.9,0.9)"
   ]
  },
  {
   "cell_type": "code",
   "execution_count": 504,
   "metadata": {},
   "outputs": [
    {
     "data": {
      "text/plain": [
       "[<matplotlib.lines.Line2D at 0x29c21d71580>]"
      ]
     },
     "execution_count": 504,
     "metadata": {},
     "output_type": "execute_result"
    },
    {
     "data": {
      "image/png": "[encoded data removed]",
      "text/plain": [
       "<Figure size 432x288 with 1 Axes>"
      ]
     },
     "metadata": {
      "needs_background": "light"
     },
     "output_type": "display_data"
    }
   ],
   "source": [
    "plt.plot(c)"
   ]
  },
  {
   "cell_type": "code",
   "execution_count": 505,
   "metadata": {},
   "outputs": [],
   "source": [
    "theta0=[]\n",
    "theta1=[]\n",
    "theta2=[]\n",
    "for item in t:\n",
    "    theta0.append(item[0])\n",
    "    theta1.append(item[2])\n",
    "   # theta2.append(item[2])"
   ]
  },
  {
   "cell_type": "code",
   "execution_count": 506,
   "metadata": {},
   "outputs": [
    {
     "data": {
      "text/plain": [
       "[<matplotlib.lines.Line2D at 0x29c22249ac0>]"
      ]
     },
     "execution_count": 506,
     "metadata": {},
     "output_type": "execute_result"
    },
    {
     "data": {
      "image/png": "[encoded data removed]",
      "text/plain": [
       "<Figure size 432x288 with 1 Axes>"
      ]
     },
     "metadata": {
      "needs_background": "light"
     },
     "output_type": "display_data"
    }
   ],
   "source": [
    "plt.plot(theta0,c,'-o')"
   ]
  },
  {
   "cell_type": "code",
   "execution_count": null,
   "metadata": {},
   "outputs": [],
   "source": []
  }
 ],
 "metadata": {
  "kernelspec": {
   "display_name": "Python 3",
   "language": "python",
   "name": "python3"
  },
  "language_info": {
   "codemirror_mode": {
    "name": "ipython",
    "version": 3
   },
   "file_extension": ".py",
   "mimetype": "text/x-python",
   "name": "python",
   "nbconvert_exporter": "python",
   "pygments_lexer": "ipython3",
   "version": "3.8.3"
  }
 },
 "nbformat": 4,
 "nbformat_minor": 4
}
